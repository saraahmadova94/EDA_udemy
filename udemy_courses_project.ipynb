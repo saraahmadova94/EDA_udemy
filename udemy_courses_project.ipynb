{
 "cells": [
  {
   "cell_type": "markdown",
   "id": "078ba29c-42a4-4ad5-9ffc-df1da91d27f2",
   "metadata": {},
   "source": [
    "# <p style=\"background-color:green;font-family:newtimeroman;font-size:200%;color:white;text-align:center;border-radius:20px 20px;\"><b>Udemy Courses Project</b></p>\n",
    "![](https://www.techproeducation.com/logo/headerlogo.svg)\n",
    "\n",
    "<b>Yeniliklerden ilk siz haberdar olmak istiyorsanız lütfen bizi takip etmeyi unutmayın </b>[YouTube](https://www.youtube.com/c/techproeducation) | [Instagram](https://www.instagram.com/techproeducation) | [Facebook](https://www.facebook.com/techproeducation) | [Telegram](https://t.me/joinchat/HH2qRvA-ulh4OWbb) | [Whatsapp](https://api.whatsapp.com/send/?phone=%2B15853042959&text&type=phone_number&app_absent=0) | [LinkedIn](https://www.linkedin.com/company/techproeducation/mycompany/) |"
   ]
  },
  {
   "cell_type": "markdown",
   "id": "162e2040",
   "metadata": {},
   "source": [
    "# Udemy Courses Project\n",
    "\n",
    "This notebook provides a structured approach to handling data cleaning, exploratory data analysis (EDA), and data visualization tasks using the **Udemy Courses** dataset.\n",
    "\n",
    "Each step will cover various aspects of cleaning, analyzing, and visualizing the dataset."
   ]
  },
  {
   "cell_type": "markdown",
   "id": "8d6aacf0",
   "metadata": {},
   "source": [
    "## Step 1: Loading the Dataset and Initial Exploration"
   ]
  },
  {
   "cell_type": "code",
   "execution_count": null,
   "id": "2ec71a73",
   "metadata": {},
   "outputs": [],
   "source": [
    "# Load the dataset \n",
    "\n",
    "# Display first few rows\n",
    "# Check the structure of the dataset.\n",
    "# Inspect the data types and missing values using df.info()\n",
    "# Get basic statistics for numerical columns with df.describe()\n",
    "# and more.."
   ]
  },
  {
   "cell_type": "markdown",
   "id": "980d3ecb",
   "metadata": {},
   "source": [
    "## Step 2: Analyzing and Handling Outliers"
   ]
  },
  {
   "cell_type": "code",
   "execution_count": null,
   "id": "77f3b907",
   "metadata": {},
   "outputs": [],
   "source": [
    "# Boxplot for outlier detection\n",
    "\n",
    "# Example: Removing outliers\n",
    "# df = df[df['UnitPrice'] < df['UnitPrice'].quantile(0.99)]"
   ]
  },
  {
   "cell_type": "markdown",
   "id": "eab7a7bb",
   "metadata": {},
   "source": [
    "## Step 3: Cleaning Inconsistent and Invalid Data"
   ]
  },
  {
   "cell_type": "code",
   "execution_count": null,
   "id": "c620dc51",
   "metadata": {},
   "outputs": [],
   "source": [
    "# Standardizing the 'level' column\n",
    "\n",
    "# Cleaning up the 'price' column, ensuring free courses have price 0\n",
    "\n",
    "# Converting 'published_timestamp' to datetime"
   ]
  },
  {
   "cell_type": "markdown",
   "id": "3865092c",
   "metadata": {},
   "source": [
    "## Step 4: Feature Engineering"
   ]
  },
  {
   "cell_type": "code",
   "execution_count": null,
   "id": "2c8f4c52",
   "metadata": {},
   "outputs": [],
   "source": [
    "# Creating 'Revenue' column\n",
    "\n",
    "# Extracting year from 'published_timestamp'"
   ]
  },
  {
   "cell_type": "markdown",
   "id": "06b1f389",
   "metadata": {},
   "source": [
    "## Step 5: Data Visualization"
   ]
  },
  {
   "cell_type": "markdown",
   "id": "4b1796ef",
   "metadata": {},
   "source": [
    "### Course Price Distribution"
   ]
  },
  {
   "cell_type": "code",
   "execution_count": null,
   "id": "981434ae",
   "metadata": {},
   "outputs": [],
   "source": [
    "# Histogram for course price distribution\n"
   ]
  },
  {
   "cell_type": "markdown",
   "id": "957494c6",
   "metadata": {},
   "source": [
    "### Relationship Between Price and Number of Subscribers"
   ]
  },
  {
   "cell_type": "code",
   "execution_count": null,
   "id": "00b6d153",
   "metadata": {},
   "outputs": [],
   "source": [
    "# Scatter plot for price vs. number of subscribers\n"
   ]
  },
  {
   "cell_type": "markdown",
   "id": "0486e619",
   "metadata": {},
   "source": [
    "### Course Level Distribution"
   ]
  },
  {
   "cell_type": "code",
   "execution_count": null,
   "id": "cb2896e0",
   "metadata": {},
   "outputs": [],
   "source": [
    "# Bar chart for course levels\n"
   ]
  },
  {
   "cell_type": "markdown",
   "id": "7fc003ea",
   "metadata": {},
   "source": [
    "### Subject-wise Analysis"
   ]
  },
  {
   "cell_type": "code",
   "execution_count": null,
   "id": "a722ff1d",
   "metadata": {},
   "outputs": [],
   "source": [
    "# Bar chart for courses by subject\n"
   ]
  },
  {
   "cell_type": "markdown",
   "id": "a5648df5",
   "metadata": {},
   "source": [
    "### Revenue Analysis by Year"
   ]
  },
  {
   "cell_type": "code",
   "execution_count": null,
   "id": "deae3f59",
   "metadata": {},
   "outputs": [],
   "source": [
    "# Line chart for revenue by year\n"
   ]
  },
  {
   "cell_type": "markdown",
   "id": "27655f60",
   "metadata": {},
   "source": [
    "### Content Duration Analysis"
   ]
  },
  {
   "cell_type": "code",
   "execution_count": null,
   "id": "75e1696a",
   "metadata": {},
   "outputs": [],
   "source": [
    "# Boxplot for content duration by course level\n"
   ]
  },
  {
   "cell_type": "markdown",
   "id": "0f051b1e",
   "metadata": {},
   "source": [
    "### Most Popular Courses"
   ]
  },
  {
   "cell_type": "code",
   "execution_count": null,
   "id": "eec3098c",
   "metadata": {},
   "outputs": [],
   "source": [
    "# Bar chart for top 10 most popular courses by subscribers\n"
   ]
  },
  {
   "cell_type": "markdown",
   "id": "b74b635f",
   "metadata": {},
   "source": [
    "### Relationship Between Number of Lectures and Reviews"
   ]
  },
  {
   "cell_type": "code",
   "execution_count": null,
   "id": "9290be00",
   "metadata": {},
   "outputs": [],
   "source": [
    "# Scatter plot for number of lectures vs. reviews\n"
   ]
  },
  {
   "cell_type": "markdown",
   "id": "04c2ad77",
   "metadata": {},
   "source": [
    "### Paid vs Free Courses Analysis"
   ]
  },
  {
   "cell_type": "code",
   "execution_count": null,
   "id": "871a6080",
   "metadata": {},
   "outputs": [],
   "source": [
    "# Pie chart for paid vs free courses\n"
   ]
  },
  {
   "cell_type": "markdown",
   "id": "8e30b757",
   "metadata": {},
   "source": [
    "### Correlation Analysis"
   ]
  },
  {
   "cell_type": "code",
   "execution_count": null,
   "id": "eb1dafa2",
   "metadata": {},
   "outputs": [],
   "source": [
    "# Correlation heatmap\n"
   ]
  },
  {
   "cell_type": "markdown",
   "id": "11dea105",
   "metadata": {},
   "source": [
    "## Step 6: Conclusion"
   ]
  },
  {
   "cell_type": "markdown",
   "id": "2b73ad25",
   "metadata": {},
   "source": [
    "\n",
    "- Summarize the key insights from the analysis.\n",
    "- Identify trends in course pricing, popularity, and revenue.\n",
    "- Suggest potential improvements for Udemy courses based on findings.\n"
   ]
  },
  {
   "cell_type": "markdown",
   "id": "ddd43760-7e9f-43aa-bd92-530fe483843e",
   "metadata": {},
   "source": [
    "# <p style=\"background-color:green;font-family:newtimeroman;font-size:200%;color:white;text-align:center;border-radius:20px 20px;\"><b>Tebrikler!</b></p>\n",
    "![](https://www.techproeducation.com/logo/headerlogo.svg)\n",
    "\n",
    "<b>Yeniliklerden ilk siz haberdar olmak istiyorsanız lütfen bizi takip etmeyi unutmayın </b>[YouTube](https://www.youtube.com/c/techproeducation) | [Instagram](https://www.instagram.com/techproeducation) | [Facebook](https://www.facebook.com/techproeducation) | [Telegram](https://t.me/joinchat/HH2qRvA-ulh4OWbb) | [Whatsapp](https://api.whatsapp.com/send/?phone=%2B15853042959&text&type=phone_number&app_absent=0) | [LinkedIn](https://www.linkedin.com/company/techproeducation/mycompany/) |"
   ]
  }
 ],
 "metadata": {
  "kernelspec": {
   "display_name": "Python 3 (ipykernel)",
   "language": "python",
   "name": "python3"
  },
  "language_info": {
   "codemirror_mode": {
    "name": "ipython",
    "version": 3
   },
   "file_extension": ".py",
   "mimetype": "text/x-python",
   "name": "python",
   "nbconvert_exporter": "python",
   "pygments_lexer": "ipython3",
   "version": "3.12.4"
  }
 },
 "nbformat": 4,
 "nbformat_minor": 5
}
